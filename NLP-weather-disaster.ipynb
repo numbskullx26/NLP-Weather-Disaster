{
 "cells": [
  {
   "cell_type": "code",
   "execution_count": null,
   "id": "d4df5a32",
   "metadata": {},
   "outputs": [],
   "source": [
    "import pandas as pd #preprocessing\n",
    "import numpy as np #matrix\n",
    "import matplotlib.pyplot as plt #visualization\n",
    "%matplotlib inline\n",
    "import seaborn as sns #visaulization\n",
    "from sklearn.model_selection import train_test_split #spliting the dataset\n",
    "from sklearn.ensemble import RandomForestClassifier #Bagging\n",
    "from sklearn.naive_bayes import MultinomialNB #Probability\n",
    "from sklearn.metrics import accuracy_score\n",
    "import nltk #Natural Language Processing\n",
    "import nltk.corpus #huge text"
   ]
  }
 ],
 "metadata": {
  "kernelspec": {
   "display_name": "Python 3 (ipykernel)",
   "language": "python",
   "name": "python3"
  },
  "language_info": {
   "codemirror_mode": {
    "name": "ipython",
    "version": 3
   },
   "file_extension": ".py",
   "mimetype": "text/x-python",
   "name": "python",
   "nbconvert_exporter": "python",
   "pygments_lexer": "ipython3",
   "version": "3.9.12"
  }
 },
 "nbformat": 4,
 "nbformat_minor": 5
}
